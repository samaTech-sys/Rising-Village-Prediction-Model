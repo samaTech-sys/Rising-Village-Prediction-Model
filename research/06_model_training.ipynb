{
 "cells": [
  {
   "cell_type": "markdown",
   "id": "ce374d64",
   "metadata": {},
   "source": [
    "## Model Training Trial-runs"
   ]
  },
  {
   "cell_type": "code",
   "execution_count": 150,
   "id": "477fcfed",
   "metadata": {},
   "outputs": [],
   "source": [
    "import os"
   ]
  },
  {
   "cell_type": "code",
   "execution_count": 151,
   "id": "ab526c41",
   "metadata": {},
   "outputs": [],
   "source": [
    "os.chdir(r\"C:\\Users\\USER\\Desktop\\MLDefaults\\Rising-Village-Prediction-Model\")"
   ]
  },
  {
   "cell_type": "markdown",
   "id": "9a8b6d63",
   "metadata": {},
   "source": [
    "## Trial-runs for entity_config file"
   ]
  },
  {
   "cell_type": "code",
   "execution_count": 152,
   "id": "ad375b75",
   "metadata": {},
   "outputs": [],
   "source": [
    "from dataclasses import dataclass\n",
    "from pathlib import Path\n",
    "from typing import Dict, Any\n",
    "\n",
    "@dataclass(frozen=True)\n",
    "class ModelTrainingConfig:\n",
    "    root_dir: Path\n",
    "    train_set_path: Path\n",
    "    test_set_path: Path \n",
    "    model_name: str \n",
    "    tfidf_params: Dict[str, Any]  # Stores TfidfVectorizer params\n",
    "    gb_params: Dict[str, Any]  # Stores GradientBoosting params       \n",
    "    target_column: str"
   ]
  },
  {
   "cell_type": "markdown",
   "id": "5c9f8cb5",
   "metadata": {},
   "source": [
    "## Trial-runs for the ConfigurationManager"
   ]
  },
  {
   "cell_type": "code",
   "execution_count": 153,
   "id": "18824f52",
   "metadata": {},
   "outputs": [],
   "source": [
    "#importing all project paths and modules necessary for project configurations \n",
    "from raisingVillage.constants import  *\n",
    "from raisingVillage.utils.common import read_yaml, create_directories\n"
   ]
  },
  {
   "cell_type": "code",
   "execution_count": 154,
   "id": "479738d9",
   "metadata": {},
   "outputs": [],
   "source": [
    "#Updating the configuration file \n",
    "class ConfigurationManager:\n",
    "    def __init__(\n",
    "        self, \n",
    "        config_filepath = CONFIG_FILE_PATH, \n",
    "        params_filepath = PARAMS_FILE_PATH,\n",
    "        selected_schema_filepath = SELECTED_SCHEMA_FILE_PATH):\n",
    "\n",
    "        self.config = read_yaml(config_filepath)\n",
    "        self.params = read_yaml(params_filepath)\n",
    "        self.selected_schema = read_yaml(selected_schema_filepath)\n",
    "       \n",
    "        create_directories([self.config.artifacts_root])\n",
    "    \n",
    "    def get_model_training_config(self) -> ModelTrainingConfig:\n",
    "        config = self.config.model_training\n",
    "        data_splitting_config = self.config.data_splitting\n",
    "        tfidf_params = self.params.model_training.TfidfVectorizer\n",
    "        gb_params = self.params.model_training.GradientBoostingClassifier\n",
    "        schema = self.selected_schema.TARGET\n",
    "        \n",
    "        create_directories([config.root_dir])\n",
    "        \n",
    "        model_training_config = ModelTrainingConfig(\n",
    "            root_dir=config.root_dir,\n",
    "            train_set_path = data_splitting_config.train_set_path,\n",
    "            test_set_path = data_splitting_config.test_set_path,\n",
    "            tfidf_params=tfidf_params,\n",
    "            gb_params=gb_params,\n",
    "            target_column=self.selected_schema.TARGET,\n",
    "            model_name=config.model_name, \n",
    "        )\n",
    "        return model_training_config"
   ]
  },
  {
   "cell_type": "markdown",
   "id": "97286374",
   "metadata": {},
   "source": [
    "## Trial-runs for components "
   ]
  },
  {
   "cell_type": "code",
   "execution_count": 155,
   "id": "b5d33ffe",
   "metadata": {},
   "outputs": [],
   "source": [
    "import pandas as pd \n",
    "import os \n",
    "import joblib\n",
    "from raisingVillage import logger\n",
    "from sklearn.ensemble import GradientBoostingClassifier\n",
    "from sklearn.feature_extraction.text import TfidfVectorizer\n",
    "from sklearn.compose import ColumnTransformer\n",
    "from sklearn.preprocessing import StandardScaler\n",
    "from sklearn.pipeline import Pipeline\n",
    "import difflib"
   ]
  },
  {
   "cell_type": "code",
   "execution_count": 156,
   "id": "eeaff740",
   "metadata": {},
   "outputs": [],
   "source": [
    "class ModelTrainer:\n",
    "    def __init__(self, config: ModelTrainingConfig):\n",
    "        self.config = config\n",
    "    \n",
    "    def train(self):\n",
    "        try:\n",
    "            # 1. Load data\n",
    "            train_data = pd.read_csv(self.config.train_set_path)\n",
    "            test_data = pd.read_csv(self.config.test_set_path)\n",
    "            \n",
    "            # 2. Clean column names\n",
    "            train_data.columns = train_data.columns.str.strip().str.replace(' ', '_')\n",
    "            test_data.columns = test_data.columns.str.strip().str.replace(' ', '_')\n",
    "\n",
    "            # 3. Set target column\n",
    "            target_column = 'target_binary'\n",
    "            \n",
    "            # 4. Verify target exists\n",
    "            if target_column not in train_data.columns:\n",
    "                raise ValueError(\n",
    "                    f\"Target column '{target_column}' not found. Available columns: {list(train_data.columns)}\"\n",
    "                )\n",
    "\n",
    "            # 5. Prepare features and target\n",
    "            train_x = train_data.drop(columns=[target_column, 'HH_Income_+_Production/Day_(USD)'])\n",
    "            test_x = test_data.drop(columns=[target_column, 'HH_Income_+_Production/Day_(USD)'])\n",
    "            train_y = train_data[target_column]\n",
    "            test_y = test_data[target_column]\n",
    "\n",
    "            # 6. Fix and validate Tfidf parameters\n",
    "            tfidf_params = self._validate_tfidf_params(self.config.tfidf_params)\n",
    "\n",
    "            # 7. Create preprocessing pipeline\n",
    "            preprocessor = ColumnTransformer(\n",
    "                transformers=[\n",
    "                    ('text1', TfidfVectorizer(**tfidf_params), 'most_recommend_rtv_program_reason'),\n",
    "                    ('text2', TfidfVectorizer(**tfidf_params), 'least_recommend_rtv_program_reason'),\n",
    "                    ('num', StandardScaler(), ['most_recommend_rtv_program', 'least_recommend_rtv_program'])\n",
    "                ],\n",
    "                remainder='passthrough'\n",
    "            )\n",
    "\n",
    "            # 8. Create and train pipeline\n",
    "            pipeline = Pipeline([\n",
    "                ('preprocessor', preprocessor),\n",
    "                ('classifier', GradientBoostingClassifier(**self.config.gb_params))\n",
    "            ])\n",
    "            \n",
    "            pipeline.fit(train_x, train_y)\n",
    "            \n",
    "            # 9. Save model\n",
    "            os.makedirs(self.config.root_dir, exist_ok=True)\n",
    "            joblib.dump(pipeline, os.path.join(self.config.root_dir, self.config.model_name))\n",
    "            \n",
    "            return pipeline\n",
    "\n",
    "        except Exception as e:\n",
    "            print(f\"Error during training: {str(e)}\")\n",
    "            raise\n",
    "\n",
    "    def _validate_tfidf_params(self, params):\n",
    "        \"\"\"Ensure TfidfVectorizer parameters are properly formatted\"\"\"\n",
    "        validated_params = params.copy()\n",
    "        \n",
    "        # Convert ngram_range to tuple if needed\n",
    "        if 'ngram_range' in validated_params:\n",
    "            if isinstance(validated_params['ngram_range'], str):\n",
    "                # Convert from string \"(1, 2)\" to tuple (1, 2)\n",
    "                validated_params['ngram_range'] = eval(validated_params['ngram_range'])\n",
    "            elif not isinstance(validated_params['ngram_range'], tuple):\n",
    "                raise ValueError(\"ngram_range must be a tuple, e.g. (1, 2)\")\n",
    "        \n",
    "        return validated_params"
   ]
  },
  {
   "cell_type": "markdown",
   "id": "ad53e46e",
   "metadata": {},
   "source": [
    "## Trial-runs for pipeline"
   ]
  },
  {
   "cell_type": "code",
   "execution_count": 157,
   "id": "13937284",
   "metadata": {},
   "outputs": [
    {
     "name": "stdout",
     "output_type": "stream",
     "text": [
      "[2025-05-29 16:37:21,743: INFO: common: yaml_file: config\\config.yaml loaded successfully]\n",
      "[2025-05-29 16:37:21,764: INFO: common: yaml_file: params.yaml loaded successfully]\n",
      "[2025-05-29 16:37:21,774: INFO: common: yaml_file: selected_schema.yaml loaded successfully]\n",
      "[2025-05-29 16:37:21,781: INFO: common: Created directory at: artifacts]\n",
      "[2025-05-29 16:37:21,783: INFO: common: Created directory at: artifacts/model_training]\n"
     ]
    }
   ],
   "source": [
    "#pipeline \n",
    "try:\n",
    "    config = ConfigurationManager()\n",
    "    model_training_config =config.get_model_training_config()\n",
    "    model_training = ModelTrainer(config=model_training_config)\n",
    "    model_training.train()\n",
    "except Exception as e:\n",
    "    raise e"
   ]
  }
 ],
 "metadata": {
  "kernelspec": {
   "display_name": "raisingVillage",
   "language": "python",
   "name": "python3"
  },
  "language_info": {
   "codemirror_mode": {
    "name": "ipython",
    "version": 3
   },
   "file_extension": ".py",
   "mimetype": "text/x-python",
   "name": "python",
   "nbconvert_exporter": "python",
   "pygments_lexer": "ipython3",
   "version": "3.10.16"
  }
 },
 "nbformat": 4,
 "nbformat_minor": 5
}

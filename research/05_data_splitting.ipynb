{
 "cells": [
  {
   "cell_type": "markdown",
   "id": "96f68f91",
   "metadata": {},
   "source": [
    "## Data Splitting Trial-runs "
   ]
  },
  {
   "cell_type": "code",
   "execution_count": 17,
   "id": "b7c73a75",
   "metadata": {},
   "outputs": [],
   "source": [
    "import os "
   ]
  },
  {
   "cell_type": "code",
   "execution_count": 18,
   "id": "9eea1ffb",
   "metadata": {},
   "outputs": [],
   "source": [
    "os.chdir(r\"C:\\Users\\USER\\Desktop\\MLDefaults\\Rising-Village-Prediction-Model\")"
   ]
  },
  {
   "cell_type": "markdown",
   "id": "ae3fbcdd",
   "metadata": {},
   "source": [
    "## Trial-runs for entity_config file "
   ]
  },
  {
   "cell_type": "code",
   "execution_count": 19,
   "id": "22cddb7f",
   "metadata": {},
   "outputs": [],
   "source": [
    "from dataclasses import dataclass\n",
    "from pathlib import Path\n",
    "\n",
    "@dataclass(frozen=True)\n",
    "class DataSplittingConfig:\n",
    "    root_dir: Path\n",
    "    processed_data_file: Path\n",
    "    train_set_path: Path\n",
    "    test_set_path: Path\n",
    "    test_size: float\n",
    "    random_state: int"
   ]
  },
  {
   "cell_type": "markdown",
   "id": "9c459305",
   "metadata": {},
   "source": [
    "## Trial-runs for configuration_file"
   ]
  },
  {
   "cell_type": "code",
   "execution_count": 20,
   "id": "ffe169e7",
   "metadata": {},
   "outputs": [],
   "source": [
    "#importing all project paths and modules necessary for project configurations \n",
    "from raisingVillage.constants import  *\n",
    "from raisingVillage.utils.common import read_yaml, create_directories"
   ]
  },
  {
   "cell_type": "code",
   "execution_count": 21,
   "id": "011085e0",
   "metadata": {},
   "outputs": [],
   "source": [
    "#Updating the configuration file \n",
    "class ConfigurationManager:\n",
    "    def __init__(\n",
    "        self, \n",
    "        config_filepath = CONFIG_FILE_PATH, \n",
    "        params_filepath = PARAMS_FILE_PATH,\n",
    "        selected_schema_filepath = SELECTED_SCHEMA_FILE_PATH):\n",
    "\n",
    "        self.config = read_yaml(config_filepath)\n",
    "        self.params = read_yaml(params_filepath)\n",
    "        self.selected_schema = read_yaml(selected_schema_filepath)\n",
    "       \n",
    "        create_directories([self.config.artifacts_root])\n",
    "    \n",
    "    def get_data_splitting_config(self) -> DataSplittingConfig:\n",
    "        config = self.config.data_splitting\n",
    "        data_transformation_config = self.config.data_transformation\n",
    "        params = self.params.data_splitting\n",
    "        \n",
    "        create_directories([config.root_dir])\n",
    "        \n",
    "        data_splitting_config = DataSplittingConfig(\n",
    "            root_dir=config.root_dir,\n",
    "            processed_data_file=data_transformation_config.processed_data_file, \n",
    "            train_set_path=config.train_set_path, \n",
    "            test_set_path=config.test_set_path, \n",
    "            test_size=float(params.test_size),\n",
    "            random_state=int(params.random_state)    \n",
    "        )\n",
    "        return data_splitting_config"
   ]
  },
  {
   "cell_type": "markdown",
   "id": "af3910f6",
   "metadata": {},
   "source": [
    "## Trial-runs for components "
   ]
  },
  {
   "cell_type": "code",
   "execution_count": 22,
   "id": "bf31883f",
   "metadata": {},
   "outputs": [],
   "source": [
    "import pandas as pd\n",
    "import os\n",
    "from pathlib import Path\n",
    "from raisingVillage import logger\n",
    "from sklearn.model_selection import train_test_split"
   ]
  },
  {
   "cell_type": "code",
   "execution_count": 23,
   "id": "14be0113",
   "metadata": {},
   "outputs": [],
   "source": [
    "class DataSplitting: \n",
    "    def __init__(self, config: DataSplittingConfig):\n",
    "        self.config = config\n",
    "        #You can add all the different transformation techniques needed before splitting the data. \n",
    "        \n",
    "    def train_test_splitting(self):\n",
    "        data = pd.read_csv(self.config.processed_data_file)\n",
    "    #Split the data into training and test datasets \n",
    "        train, test = train_test_split(\n",
    "            data,\n",
    "            test_size=self.config.test_size,\n",
    "            random_state=self.config.random_state \n",
    "            )\n",
    "        train.to_csv(os.path.join(self.config.root_dir, \"train_set.csv\"), index=False)\n",
    "        test.to_csv(os.path.join(self.config.root_dir, \"test_set.csv\"), index=False)\n",
    "        \n",
    "        logger.info(\"Splitted data into train and test sets\")\n",
    "        logger.info(f\"Train set saved to {self.config.train_set_path}\")\n",
    "        logger.info(f\"Test set saved to {self.config.test_set_path}\")\n"
   ]
  },
  {
   "cell_type": "markdown",
   "id": "b2265376",
   "metadata": {},
   "source": [
    "## trial-runs for pipeline "
   ]
  },
  {
   "cell_type": "code",
   "execution_count": 24,
   "id": "c1ef4bb3",
   "metadata": {},
   "outputs": [
    {
     "name": "stdout",
     "output_type": "stream",
     "text": [
      "[2025-05-29 11:57:43,254: INFO: common: yaml_file: config\\config.yaml loaded successfully]\n",
      "[2025-05-29 11:57:43,262: INFO: common: yaml_file: params.yaml loaded successfully]\n",
      "[2025-05-29 11:57:43,271: INFO: common: yaml_file: selected_schema.yaml loaded successfully]\n",
      "[2025-05-29 11:57:43,275: INFO: common: Created directory at: artifacts]\n",
      "[2025-05-29 11:57:43,279: INFO: common: Created directory at: artifacts/data_splitting]\n"
     ]
    },
    {
     "name": "stdout",
     "output_type": "stream",
     "text": [
      "[2025-05-29 11:57:43,335: INFO: 3128332124: Splitted data into train and test sets]\n",
      "[2025-05-29 11:57:43,339: INFO: 3128332124: Train set saved to artifacts/data_splitting/train_set.csv]\n",
      "[2025-05-29 11:57:43,343: INFO: 3128332124: Test set saved to artifacts/data_splitting/train_set.csv]\n"
     ]
    }
   ],
   "source": [
    "try:\n",
    "    config = ConfigurationManager()\n",
    "    data_splitting_config =config.get_data_splitting_config()\n",
    "    data_splitting = DataSplitting(config=data_splitting_config)\n",
    "    data_splitting.train_test_splitting()\n",
    "except Exception as e:\n",
    "    raise e"
   ]
  }
 ],
 "metadata": {
  "kernelspec": {
   "display_name": "raisingVillage",
   "language": "python",
   "name": "python3"
  },
  "language_info": {
   "codemirror_mode": {
    "name": "ipython",
    "version": 3
   },
   "file_extension": ".py",
   "mimetype": "text/x-python",
   "name": "python",
   "nbconvert_exporter": "python",
   "pygments_lexer": "ipython3",
   "version": "3.10.16"
  }
 },
 "nbformat": 4,
 "nbformat_minor": 5
}

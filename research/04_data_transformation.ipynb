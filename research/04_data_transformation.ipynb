{
 "cells": [
  {
   "cell_type": "markdown",
   "id": "77335e67",
   "metadata": {},
   "source": [
    "## Data Transformation Trial-runs "
   ]
  },
  {
   "cell_type": "code",
   "execution_count": 17,
   "id": "2ac1cdca",
   "metadata": {},
   "outputs": [],
   "source": [
    "import os "
   ]
  },
  {
   "cell_type": "code",
   "execution_count": 18,
   "id": "f6909b86",
   "metadata": {},
   "outputs": [],
   "source": [
    "os.chdir(r\"C:\\Users\\USER\\Desktop\\MLDefaults\\Rising-Village-Prediction-Model\")"
   ]
  },
  {
   "cell_type": "markdown",
   "id": "b6a13885",
   "metadata": {},
   "source": [
    "## Trial-runs for entity_config file "
   ]
  },
  {
   "cell_type": "code",
   "execution_count": 19,
   "id": "7857c43d",
   "metadata": {},
   "outputs": [],
   "source": [
    "from dataclasses import dataclass\n",
    "from pathlib import Path\n",
    "\n",
    "@dataclass(frozen=True)\n",
    "class DataTransformationConfig:\n",
    "    root_dir: Path\n",
    "    data_path: Path\n",
    "    processed_data_dir: Path"
   ]
  },
  {
   "cell_type": "markdown",
   "id": "d867c3aa",
   "metadata": {},
   "source": [
    "## Trial-runs for configuration_file"
   ]
  },
  {
   "cell_type": "code",
   "execution_count": 20,
   "id": "6dc0e747",
   "metadata": {},
   "outputs": [],
   "source": [
    "#importing all project paths and modules necessary for project configurations \n",
    "from raisingVillage.constants import  *\n",
    "from raisingVillage.utils.common import read_yaml, create_directories"
   ]
  },
  {
   "cell_type": "code",
   "execution_count": 21,
   "id": "11d5edd8",
   "metadata": {},
   "outputs": [],
   "source": [
    "#Updating the configuration file \n",
    "class ConfigurationManager:\n",
    "    def __init__(\n",
    "        self, \n",
    "        config_filepath = CONFIG_FILE_PATH, \n",
    "        params_filepath = PARAMS_FILE_PATH,\n",
    "        selected_schema_filepath = SELECTED_SCHEMA_FILE_PATH):\n",
    "\n",
    "        self.config = read_yaml(config_filepath)\n",
    "        self.params = read_yaml(params_filepath)\n",
    "        self.selected_schema = read_yaml(selected_schema_filepath)\n",
    "       \n",
    "        create_directories([self.config.artifacts_root])\n",
    "    \n",
    "    def get_data_transformation_config(self) -> DataTransformationConfig:\n",
    "        config = self.config.data_transformation \n",
    "        \n",
    "        create_directories([config.root_dir])\n",
    "        \n",
    "        data_transformation_config = DataTransformationConfig(\n",
    "            root_dir=config.root_dir,\n",
    "            data_path=config.data_path, \n",
    "            processed_data_dir=config.processed_data_dir\n",
    "        )\n",
    "        return data_transformation_config"
   ]
  },
  {
   "cell_type": "markdown",
   "id": "77836d70",
   "metadata": {},
   "source": [
    "## Trial-runs for components "
   ]
  },
  {
   "cell_type": "code",
   "execution_count": 22,
   "id": "40b55cb8",
   "metadata": {},
   "outputs": [],
   "source": [
    "import pandas as pd\n",
    "import os\n",
    "from pathlib import Path\n",
    "from raisingVillage import logger"
   ]
  },
  {
   "cell_type": "code",
   "execution_count": 23,
   "id": "bb58889c",
   "metadata": {},
   "outputs": [],
   "source": [
    "class DataTransformation:\n",
    "    def __init__(self, config: DataTransformationConfig):\n",
    "        self.config = config\n",
    "        self.df = pd.read_csv(self.config.data_path)\n",
    "        self.processed_df = None\n",
    "    \n",
    "    def create_binary_classes(self, df: pd.DataFrame, target_col: str = \"HH Income + Production/Day (USD)\") -> pd.DataFrame:\n",
    "        \"\"\"\n",
    "        Convert continuous target to binary classes using median split\n",
    "        Args:\n",
    "            df: Input DataFrame\n",
    "            target_col: Name of column to binarize\n",
    "        Returns:\n",
    "            DataFrame with new 'target_binary' column\n",
    "        \"\"\"\n",
    "        median_val = df[target_col].median()\n",
    "        df['target_binary'] = (df[target_col] > median_val).astype(int)\n",
    "        logger.info(f\"Created binary classes (median threshold: {median_val:.2f})\")\n",
    "        return df\n",
    "    \n",
    "    def fill_missing_with_mode(self, df: pd.DataFrame) -> pd.DataFrame:\n",
    "        \"\"\"\n",
    "        Fill all missing values using mode (most frequent value) for each column\n",
    "        Args:\n",
    "            df: Input DataFrame with missing values\n",
    "        Returns:\n",
    "            DataFrame with missing values filled\n",
    "        \"\"\"\n",
    "        for col in df.columns:\n",
    "            if df[col].isnull().any():\n",
    "                mode_val = df[col].mode()[0] if not df[col].mode().empty else \"Unknown\"\n",
    "                df[col] = df[col].fillna(mode_val)\n",
    "                logger.info(f\"Filled missing values in {col} with mode: {mode_val}\")\n",
    "        return df\n",
    "    \n",
    "    def process_and_store_data(self) -> None:\n",
    "        \"\"\"\n",
    "        Execute full processing pipeline and store results\n",
    "        Args:\n",
    "            df: Raw input DataFrame\n",
    "        \"\"\"\n",
    "        df=self.df.copy() #work on a copy of dataframe\n",
    "        df = self.create_binary_classes(df) # Step 1: Binarize target\n",
    "        df = self.fill_missing_with_mode(df)  # Step 2: Handle missing values\n",
    "        self.processed_df = df # Store processed data\n",
    "        \n",
    "        # Save to artifacts\n",
    "        os.makedirs(self.config.processed_data_dir, exist_ok=True)\n",
    "        save_path = Path(self.config.processed_data_dir) / \"processed_df.csv\"\n",
    "        df.to_csv(save_path, index=False)\n",
    "        logger.info(f\"Processed data stored at: {save_path}\")"
   ]
  },
  {
   "cell_type": "markdown",
   "id": "a2da4770",
   "metadata": {},
   "source": [
    "## Trial-runs for pipeline"
   ]
  },
  {
   "cell_type": "code",
   "execution_count": 24,
   "id": "64a774c3",
   "metadata": {},
   "outputs": [
    {
     "name": "stdout",
     "output_type": "stream",
     "text": [
      "[2025-05-29 08:08:56,527: INFO: common: yaml_file: config\\config.yaml loaded successfully]\n",
      "[2025-05-29 08:08:56,542: INFO: common: yaml_file: params.yaml loaded successfully]\n",
      "[2025-05-29 08:08:56,549: INFO: common: yaml_file: selected_schema.yaml loaded successfully]\n",
      "[2025-05-29 08:08:56,549: INFO: common: Created directory at: artifacts]\n",
      "[2025-05-29 08:08:56,565: INFO: common: Created directory at: artifacts/data_transformation]\n",
      "[2025-05-29 08:08:56,604: INFO: 590413929: Created binary classes (median threshold: 2.26)]\n",
      "[2025-05-29 08:08:56,612: INFO: 590413929: Filled missing values in most_recommend_rtv_program with mode: 1.0]\n",
      "[2025-05-29 08:08:56,620: INFO: 590413929: Filled missing values in least_recommend_rtv_program with mode: 99.0]\n",
      "[2025-05-29 08:08:56,628: INFO: 590413929: Filled missing values in most_recommend_rtv_program_reason with mode: It has greatly influencedÂ  our community in improving agricultural skills and other methods of farming,Â  I highly recommend it to move to other area]\n",
      "[2025-05-29 08:08:56,637: INFO: 590413929: Filled missing values in least_recommend_rtv_program_reason with mode: All interventions have worked for the people credit goes go the implementation team for the god work done in communities]\n",
      "[2025-05-29 08:08:56,668: INFO: 590413929: Processed data stored at: artifacts\\data_transformation\\processed_df.csv\\processed_df.csv]\n"
     ]
    }
   ],
   "source": [
    "try:\n",
    "    config = ConfigurationManager()\n",
    "    data_transformation_config = config.get_data_transformation_config()\n",
    "    data_transformation = DataTransformation(config=data_transformation_config)\n",
    "    data_transformation.process_and_store_data()\n",
    "except Exception as e:\n",
    "    raise e"
   ]
  }
 ],
 "metadata": {
  "kernelspec": {
   "display_name": "raisingVillage",
   "language": "python",
   "name": "python3"
  },
  "language_info": {
   "codemirror_mode": {
    "name": "ipython",
    "version": 3
   },
   "file_extension": ".py",
   "mimetype": "text/x-python",
   "name": "python",
   "nbconvert_exporter": "python",
   "pygments_lexer": "ipython3",
   "version": "3.10.16"
  }
 },
 "nbformat": 4,
 "nbformat_minor": 5
}

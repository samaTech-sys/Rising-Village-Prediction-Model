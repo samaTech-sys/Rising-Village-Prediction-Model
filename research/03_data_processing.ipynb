{
 "cells": [
  {
   "cell_type": "markdown",
   "id": "7351c3a3",
   "metadata": {},
   "source": [
    "## Data Processing Step Trial-runs "
   ]
  },
  {
   "cell_type": "code",
   "execution_count": 1,
   "id": "57b8aeea",
   "metadata": {},
   "outputs": [],
   "source": [
    "import os "
   ]
  },
  {
   "cell_type": "code",
   "execution_count": 2,
   "id": "0efd9a20",
   "metadata": {},
   "outputs": [],
   "source": [
    "os.chdir(r\"C:\\Users\\USER\\Desktop\\MLDefaults\\Rising-Village-Prediction-Model\")"
   ]
  },
  {
   "cell_type": "markdown",
   "id": "81957216",
   "metadata": {},
   "source": [
    "## Trial-runs for entity_config file "
   ]
  },
  {
   "cell_type": "code",
   "execution_count": 3,
   "id": "29026d38",
   "metadata": {},
   "outputs": [],
   "source": [
    "from dataclasses import dataclass\n",
    "from pathlib import Path\n",
    "\n",
    "@dataclass(frozen=True)\n",
    "class DataProcessingConfig:\n",
    "    root_dir: Path\n",
    "    unzip_data_dir: Path\n",
    "    selected_data_file: Path \n",
    "    validation_report: str\n",
    "    all_schema: dict\n",
    "    target_column: str"
   ]
  },
  {
   "cell_type": "markdown",
   "id": "f44a1a1f",
   "metadata": {},
   "source": [
    "## Trial-runs for CongigurationManager file "
   ]
  },
  {
   "cell_type": "code",
   "execution_count": 4,
   "id": "66f77f52",
   "metadata": {},
   "outputs": [],
   "source": [
    "#importing all project paths and modules necessary for project configurations \n",
    "from raisingVillage.constants import  *\n",
    "from raisingVillage.utils.common import read_yaml, create_directories"
   ]
  },
  {
   "cell_type": "code",
   "execution_count": 5,
   "id": "7747a151",
   "metadata": {},
   "outputs": [],
   "source": [
    "#Updating the configuration file \n",
    "class ConfigurationManager:\n",
    "    def __init__(\n",
    "        self, \n",
    "        config_filepath = CONFIG_FILE_PATH, \n",
    "        params_filepath = PARAMS_FILE_PATH,\n",
    "        selected_schema_filepath = SELECTED_SCHEMA_FILE_PATH):\n",
    "\n",
    "        self.config = read_yaml(config_filepath)\n",
    "        self.params = read_yaml(params_filepath)\n",
    "        self.selected_schema = read_yaml(selected_schema_filepath)\n",
    "       \n",
    "        create_directories([self.config.artifacts_root])\n",
    "    \n",
    "    def get_data_processing_config(self) -> DataProcessingConfig:\n",
    "        config = self.config.data_processing\n",
    "        data_validation_config = self.config.data_validation\n",
    "        selected_schema = self.selected_schema.COLUMNS\n",
    "        \n",
    "        # Get target column from schema (adjust this based on your actual schema structure)\n",
    "        target_column = getattr(self.selected_schema, 'TARGET', None)\n",
    "        if target_column is None:\n",
    "            raise ValueError(\"Target column not specified in schema\")\n",
    "        \n",
    "        create_directories([config.root_dir])\n",
    "        \n",
    "        data_processing_config = DataProcessingConfig(\n",
    "            root_dir=config.root_dir,\n",
    "            validation_report=Path(config.validation_report),\n",
    "            selected_data_file=Path(config.selected_data_file),\n",
    "            all_schema=selected_schema,\n",
    "            unzip_data_dir=data_validation_config.unzip_data_dir,\n",
    "            target_column=target_column  \n",
    "        )\n",
    "        return data_processing_config"
   ]
  },
  {
   "cell_type": "markdown",
   "id": "e8802a50",
   "metadata": {},
   "source": [
    "## Trial-runs for components file"
   ]
  },
  {
   "cell_type": "code",
   "execution_count": 6,
   "id": "fca7c137",
   "metadata": {},
   "outputs": [],
   "source": [
    "import os \n",
    "from raisingVillage import logger\n",
    "import pandas as pd "
   ]
  },
  {
   "cell_type": "code",
   "execution_count": 7,
   "id": "49252e36",
   "metadata": {},
   "outputs": [],
   "source": [
    "class DataProcessing:\n",
    "    def __init__(self, config: DataProcessingConfig):\n",
    "        self.config = config\n",
    "    \n",
    "    def extract_and_save_features(self):\n",
    "        \"\"\"Load, validate, and save selected features\"\"\"\n",
    "        try:\n",
    "            df = pd.read_csv(self.config.unzip_data_dir)\n",
    "            selected_columns = list(self.config.all_schema.keys())\n",
    "            \n",
    "            # Validate and select columns\n",
    "            if missing := [col for col in selected_columns if col not in df.columns]:\n",
    "                raise ValueError(f\"Missing columns: {missing}\")\n",
    "            \n",
    "            selected_df = df[selected_columns].copy()\n",
    "            self.config.selected_data_file.parent.mkdir(parents=True, exist_ok=True)\n",
    "            selected_df.to_csv(self.config.selected_data_file, index=False)\n",
    "            \n",
    "            # Log results\n",
    "            logger.info(f\"Saved {len(selected_columns)} features to {self.config.selected_data_file}\")\n",
    "            if hasattr(self.config, 'target_column'):\n",
    "                logger.info(f\"Target column: {self.config.target_column}\")\n",
    "            \n",
    "            return selected_df\n",
    "            \n",
    "        except Exception as e:\n",
    "            logger.error(f\"Feature extraction failed: {e}\")\n",
    "            raise\n",
    "    \n",
    "    def validate_all_columns(self) -> bool:\n",
    "        \"\"\"Validate data against schema\"\"\"\n",
    "        try:\n",
    "            data = pd.read_csv(self.config.selected_data_file)\n",
    "            schema_cols = set(self.config.all_schema.keys())\n",
    "            data_cols = set(data.columns)\n",
    "            \n",
    "            validation_status = data_cols.issubset(schema_cols)\n",
    "            report_content = (\n",
    "                f\"Validation status: {validation_status}\\n\"\n",
    "                f\"Data columns: {sorted(data_cols)}\\n\"\n",
    "                f\"Schema columns: {sorted(schema_cols)}\"\n",
    "            )\n",
    "            \n",
    "            self.config.validation_report.parent.mkdir(exist_ok=True, parents=True)\n",
    "            self.config.validation_report.write_text(report_content)\n",
    "            \n",
    "            logger.info(f\"Validation {'passed' if validation_status else 'failed'}\")\n",
    "            return validation_status\n",
    "            \n",
    "        except Exception as e:\n",
    "            logger.error(f\"Validation failed: {e}\")\n",
    "            raise"
   ]
  },
  {
   "cell_type": "markdown",
   "id": "b8e6886f",
   "metadata": {},
   "source": [
    "## Trial-runs for pipeline"
   ]
  },
  {
   "cell_type": "code",
   "execution_count": 8,
   "id": "5e82066e",
   "metadata": {},
   "outputs": [
    {
     "name": "stdout",
     "output_type": "stream",
     "text": [
      "[2025-05-28 18:35:02,466: INFO: common: yaml_file: config\\config.yaml loaded successfully]\n",
      "[2025-05-28 18:35:02,532: INFO: common: yaml_file: params.yaml loaded successfully]\n",
      "[2025-05-28 18:35:02,559: INFO: common: yaml_file: selected_schema.yaml loaded successfully]\n",
      "[2025-05-28 18:35:02,561: INFO: common: Created directory at: artifacts]\n",
      "[2025-05-28 18:35:02,561: INFO: common: Created directory at: artifacts/data_processing]\n"
     ]
    },
    {
     "name": "stderr",
     "output_type": "stream",
     "text": [
      "C:\\Users\\USER\\AppData\\Local\\Temp\\ipykernel_6568\\404485137.py:8: DtypeWarning: Columns (102,116,128,142,154,180,194,246,343,359,367,380,484,615,725,737,806,827,857,859,999,1076,1191,1234,1263,1538,1541,1592,1593,1632,1679,1681,1723,1735,1770,1785,1804,1855,1857,2182,2230,2252,2368,2577,2580,2631,2632,2671,2742,2758,2784,2805,2858,2885,2927,3364,3372,3510,3540,3543,3557,3571,3628,3741,3788,3835,3863,3882,3920,3930,4006,4044,4053,4100,4157,4383,4402,4430,4506,4553,4929,4943,5005,5009,5013,5017,5077,5166,5174,5177,5222,5491,5504,5537,5736,5745,5845,5849,5855,5866,5878,5879,5901,5923,5931,5945,5967,5995,5996,6011,6017,6018,6075,6115,6118,6430,6440,6451,6475,6483,6525,6532,6703,6763,6808) have mixed types. Specify dtype option on import or set low_memory=False.\n",
      "  df = pd.read_csv(self.config.unzip_data_dir)\n"
     ]
    },
    {
     "name": "stdout",
     "output_type": "stream",
     "text": [
      "[2025-05-28 18:35:05,119: INFO: 404485137: Saved 5 features to artifacts\\data_processing\\selected_features.csv]\n",
      "[2025-05-28 18:35:05,119: INFO: 404485137: Target column: {'HH Income + Production/Day (USD)': 'float64'}]\n",
      "[2025-05-28 18:35:05,304: INFO: 404485137: Validation passed]\n"
     ]
    }
   ],
   "source": [
    "try: \n",
    "    config = ConfigurationManager()\n",
    "    data_processing_config = config.get_data_processing_config()\n",
    "    data_processing = DataProcessing(config=data_processing_config)\n",
    "    data_processing.extract_and_save_features()\n",
    "    data_processing.validate_all_columns()\n",
    "except Exception as e:\n",
    "\n",
    "    raise e"
   ]
  }
 ],
 "metadata": {
  "kernelspec": {
   "display_name": "raisingVillage",
   "language": "python",
   "name": "python3"
  },
  "language_info": {
   "codemirror_mode": {
    "name": "ipython",
    "version": 3
   },
   "file_extension": ".py",
   "mimetype": "text/x-python",
   "name": "python",
   "nbconvert_exporter": "python",
   "pygments_lexer": "ipython3",
   "version": "3.10.16"
  }
 },
 "nbformat": 4,
 "nbformat_minor": 5
}

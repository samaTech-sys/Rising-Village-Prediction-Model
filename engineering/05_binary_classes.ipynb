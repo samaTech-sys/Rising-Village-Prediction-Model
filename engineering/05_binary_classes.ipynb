{
 "cells": [
  {
   "cell_type": "markdown",
   "id": "c6e140cd",
   "metadata": {},
   "source": [
    "## Binary classes Trial-runs "
   ]
  },
  {
   "cell_type": "code",
   "execution_count": 1,
   "id": "e4cbd707",
   "metadata": {},
   "outputs": [
    {
     "name": "stderr",
     "output_type": "stream",
     "text": [
      "c:\\Users\\USER\\Desktop\\MLDefaults\\Rising-Village-Prediction-Model\\engineering\\styles\\__init__.py:5: DtypeWarning: Columns (102,116,128,142,154,180,194,246,343,359,367,380,484,615,725,737,806,827,857,859,999,1076,1191,1234,1263,1538,1541,1592,1593,1632,1679,1681,1723,1735,1770,1785,1804,1855,1857,2182,2230,2252,2368,2577,2580,2631,2632,2671,2742,2758,2784,2805,2858,2885,2927,3364,3372,3510,3540,3543,3557,3571,3628,3741,3788,3835,3863,3882,3920,3930,4006,4044,4053,4100,4157,4383,4402,4430,4506,4553,4929,4943,5005,5009,5013,5017,5077,5166,5174,5177,5222,5491,5504,5537,5736,5745,5845,5849,5855,5866,5878,5879,5901,5923,5931,5945,5967,5995,5996,6011,6017,6018,6075,6115,6118,6430,6440,6451,6475,6483,6525,6532,6703,6763,6808) have mixed types. Specify dtype option on import or set low_memory=False.\n",
      "  df = pd.read_csv(data_path)\n"
     ]
    }
   ],
   "source": [
    "\n",
    "import pandas as pd \n",
    "import numpy as np\n",
    "from styles.style5_binary_classes import MedianBinarizationStrategy, TargetBinarizationStrategy, TargetBinarizer, ThresholdBinarizationStrategy"
   ]
  },
  {
   "cell_type": "code",
   "execution_count": 2,
   "id": "e05d9b15",
   "metadata": {},
   "outputs": [],
   "source": [
    "#loading our dataset after being extracted in the artifacts folder\n",
    "data_path = (r\"C:\\Users\\USER\\Desktop\\MLDefaults\\Rising-Village-Prediction-Model\\artifacts\\data_processing\\selected_features.csv\")\n",
    "ds = pd.read_csv(data_path)"
   ]
  },
  {
   "cell_type": "code",
   "execution_count": 3,
   "id": "30f2be9d",
   "metadata": {},
   "outputs": [
    {
     "name": "stdout",
     "output_type": "stream",
     "text": [
      "[2025-05-28 18:59:43,175: INFO: style5_binary_classes: Executing target binarization...]\n",
      "[2025-05-28 18:59:43,189: INFO: style5_binary_classes: Binarized target using median split (threshold=2.26)]\n",
      "\n",
      "Median Binarization Results:\n",
      "   HH Income + Production/Day (USD)  income_binary\n",
      "0                          3.889670              1\n",
      "1                          0.988523              0\n",
      "2                          1.766013              0\n",
      "3                          2.599408              1\n",
      "4                          1.722584              0\n",
      "\n",
      "==================================================\n",
      "\n"
     ]
    }
   ],
   "source": [
    "# 1. Test Median Strategy\n",
    "median_binarizer = TargetBinarizer(MedianBinarizationStrategy())\n",
    "df_median = median_binarizer.execute(ds.copy())\n",
    "print(\"\\nMedian Binarization Results:\")\n",
    "print(df_median[[\"HH Income + Production/Day (USD)\", 'income_binary']].head())\n",
    "print(\"\\n\" + \"=\"*50 + \"\\n\")"
   ]
  },
  {
   "cell_type": "code",
   "execution_count": null,
   "id": "d2d7d69e",
   "metadata": {},
   "outputs": [
    {
     "name": "stdout",
     "output_type": "stream",
     "text": [
      "\n",
      "Class Distribution After Median Split:\n",
      "Low Income (0): 50.0%\n",
      "High Income (1): 50.0%\n",
      "\n",
      "Imbalance Ratio: 1.0:1\n",
      "Class distribution is reasonably balanced\n"
     ]
    }
   ],
   "source": [
    "# 3. Check class distribution\n",
    "class_distribution = df_median['income_binary'].value_counts(normalize=True)\n",
    "\n",
    "print(\"\\nClass Distribution After Median Split:\")\n",
    "print(f\"Low Income (0): {class_distribution.get(0, 0):.1%}\")\n",
    "print(f\"High Income (1): {class_distribution.get(1, 0):.1%}\")\n",
    "\n",
    "# 4. Evaluate imbalance\n",
    "imbalance_ratio = class_distribution.max() / class_distribution.min()\n",
    "print(f\"\\nImbalance Ratio: {imbalance_ratio:.1f}:1\")\n",
    "\n",
    "if imbalance_ratio > 2:\n",
    "    print(\"Warning: Significant class imbalance detected!\")\n",
    "    print(\"Consider using:\")\n",
    "    print(\"- class_weight='balanced' in your classifier\")\n",
    "    print(\"- SMOTE oversampling\")\n",
    "    print(\"- Different binarization strategy (e.g., percentile-based)\")\n",
    "else:\n",
    "    print(\"Class distribution is reasonably balanced\")"
   ]
  }
 ],
 "metadata": {
  "kernelspec": {
   "display_name": "raisingVillage",
   "language": "python",
   "name": "python3"
  },
  "language_info": {
   "codemirror_mode": {
    "name": "ipython",
    "version": 3
   },
   "file_extension": ".py",
   "mimetype": "text/x-python",
   "name": "python",
   "nbconvert_exporter": "python",
   "pygments_lexer": "ipython3",
   "version": "3.10.16"
  }
 },
 "nbformat": 4,
 "nbformat_minor": 5
}

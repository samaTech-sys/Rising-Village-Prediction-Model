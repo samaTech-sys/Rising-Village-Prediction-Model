{
 "cells": [
  {
   "cell_type": "markdown",
   "id": "2d1d4cf7",
   "metadata": {},
   "source": [
    "## Runs FET on Dataset"
   ]
  },
  {
   "cell_type": "code",
   "execution_count": 2,
   "id": "a8cc2a57",
   "metadata": {},
   "outputs": [],
   "source": [
    "import pandas as pd \n",
    "import numpy as np\n",
    "from styles import selected_data as ds\n",
    "from styles.style1_handle_missing_values import MissingValueHandler, MissingValueHandlingStrategy, DropMissingValuesStrategy, FillMissingValuesStrategy\n",
    "from styles.style2_handle_outliers import OutlierDetectionStrategy, OutlierDetector, ZScoreOutlierDetection, IQROutlierDetection\n",
    "from styles.style3_numerical_feature_engineering import MinMaxScaler, StandardScaler,LogTransformation,FeatureEngineering, NumericalFeatureEngineeringStrategy\n",
    "from styles.style4_categorical_feature_engineering import OneHotEncoding, FeatureEngineering, CategoricalFeatureEngineeringStrategy"
   ]
  },
  {
   "cell_type": "code",
   "execution_count": 4,
   "id": "13edda24",
   "metadata": {},
   "outputs": [
    {
     "name": "stderr",
     "output_type": "stream",
     "text": [
      "C:\\Users\\USER\\AppData\\Local\\Temp\\ipykernel_9284\\2028644905.py:3: DtypeWarning: Columns (102,116,128,142,154,180,194,246,343,359,367,380,484,615,725,737,806,827,857,859,999,1076,1191,1234,1263,1538,1541,1592,1593,1632,1679,1681,1723,1735,1770,1785,1804,1855,1857,2182,2230,2252,2368,2577,2580,2631,2632,2671,2742,2758,2784,2805,2858,2885,2927,3364,3372,3510,3540,3543,3557,3571,3628,3741,3788,3835,3863,3882,3920,3930,4006,4044,4053,4100,4157,4383,4402,4430,4506,4553,4929,4943,5005,5009,5013,5017,5077,5166,5174,5177,5222,5491,5504,5537,5736,5745,5845,5849,5855,5866,5878,5879,5901,5923,5931,5945,5967,5995,5996,6011,6017,6018,6075,6115,6118,6430,6440,6451,6475,6483,6525,6532,6703,6763,6808) have mixed types. Specify dtype option on import or set low_memory=False.\n",
      "  df = pd.read_csv(data_path)\n"
     ]
    }
   ],
   "source": [
    "#loading our dataset after being extracted in the artifacts folder\n",
    "data_path = (r\"C:\\Users\\USER\\Desktop\\MLDefaults\\Rising-Village-Prediction-Model\\artifacts\\data_ingestion\\interview_dataset.csv\")\n",
    "df = pd.read_csv(data_path)"
   ]
  },
  {
   "cell_type": "markdown",
   "id": "ff5bbaf4",
   "metadata": {},
   "source": [
    "## Style 1: Handle Missing Values"
   ]
  },
  {
   "cell_type": "code",
   "execution_count": 3,
   "id": "0cd01566",
   "metadata": {},
   "outputs": [
    {
     "name": "stdout",
     "output_type": "stream",
     "text": [
      "[2025-05-27 20:22:28,559: INFO: style1_handle_missing_values: Executing Missing Value handling strategy!]\n",
      "[2025-05-27 20:22:28,562: INFO: style1_handle_missing_values: /n Dropping missing values using method={self.method}]\n",
      "[2025-05-27 20:22:28,592: INFO: style1_handle_missing_values: Missing Values Filled!]\n"
     ]
    }
   ],
   "source": [
    "# Initialize the handler with median-filling strategy\n",
    "missing_values_handler = MissingValueHandler(FillMissingValuesStrategy(method=\"median\"))\n",
    "filled_df = missing_values_handler.execute_strategy(ds)\n"
   ]
  },
  {
   "cell_type": "code",
   "execution_count": 6,
   "id": "f6868800",
   "metadata": {},
   "outputs": [
    {
     "name": "stdout",
     "output_type": "stream",
     "text": [
      "HH Income + Production/Day (USD)        0\n",
      "most_recommend_rtv_program            120\n",
      "least_recommend_rtv_program           120\n",
      "most_recommend_rtv_program_reason     120\n",
      "least_recommend_rtv_program_reason    120\n",
      "dtype: int64\n"
     ]
    }
   ],
   "source": [
    "print(ds.isnull().sum())"
   ]
  },
  {
   "cell_type": "code",
   "execution_count": 7,
   "id": "841563ce",
   "metadata": {},
   "outputs": [
    {
     "name": "stdout",
     "output_type": "stream",
     "text": [
      "[2025-05-27 20:30:58,001: INFO: style1_handle_missing_values: Executing Missing Value handling strategy!]\n",
      "[2025-05-27 20:30:58,012: INFO: style1_handle_missing_values: /n Dropping missing values using method={self.method}]\n",
      "[2025-05-27 20:30:58,203: INFO: style1_handle_missing_values: Missing Values Filled!]\n",
      "\n",
      "Columns with missing values AFTER filling:\n"
     ]
    },
    {
     "ename": "AttributeError",
     "evalue": "'NoneType' object has no attribute 'isnull'",
     "output_type": "error",
     "traceback": [
      "\u001b[1;31m---------------------------------------------------------------------------\u001b[0m",
      "\u001b[1;31mAttributeError\u001b[0m                            Traceback (most recent call last)",
      "Cell \u001b[1;32mIn[7], line 3\u001b[0m\n\u001b[0;32m      1\u001b[0m filled_df \u001b[38;5;241m=\u001b[39m missing_values_handler\u001b[38;5;241m.\u001b[39mexecute_strategy(ds)\n\u001b[0;32m      2\u001b[0m \u001b[38;5;28mprint\u001b[39m(\u001b[38;5;124m\"\u001b[39m\u001b[38;5;130;01m\\n\u001b[39;00m\u001b[38;5;124mColumns with missing values AFTER filling:\u001b[39m\u001b[38;5;124m\"\u001b[39m)\n\u001b[1;32m----> 3\u001b[0m \u001b[38;5;28mprint\u001b[39m(\u001b[43mfilled_df\u001b[49m\u001b[38;5;241;43m.\u001b[39;49m\u001b[43misnull\u001b[49m()\u001b[38;5;241m.\u001b[39msum())\n",
      "\u001b[1;31mAttributeError\u001b[0m: 'NoneType' object has no attribute 'isnull'"
     ]
    }
   ],
   "source": [
    "filled_df = missing_values_handler.execute_strategy(ds)\n",
    "print(\"\\nColumns with missing values AFTER filling:\")\n",
    "print(filled_df.isnull().sum())\n"
   ]
  }
 ],
 "metadata": {
  "kernelspec": {
   "display_name": "raisingVillage",
   "language": "python",
   "name": "python3"
  },
  "language_info": {
   "codemirror_mode": {
    "name": "ipython",
    "version": 3
   },
   "file_extension": ".py",
   "mimetype": "text/x-python",
   "name": "python",
   "nbconvert_exporter": "python",
   "pygments_lexer": "ipython3",
   "version": "3.10.16"
  }
 },
 "nbformat": 4,
 "nbformat_minor": 5
}

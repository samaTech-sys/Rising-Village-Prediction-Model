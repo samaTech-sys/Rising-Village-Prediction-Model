{
 "cells": [
  {
   "cell_type": "markdown",
   "id": "2d1d4cf7",
   "metadata": {},
   "source": [
    "## Runs FET on Dataset"
   ]
  },
  {
   "cell_type": "code",
   "execution_count": null,
   "id": "a8cc2a57",
   "metadata": {},
   "outputs": [
    {
     "ename": "",
     "evalue": "",
     "output_type": "error",
     "traceback": [
      "\u001b[1;31mFailed to start the Kernel. \n",
      "\u001b[1;31mUnable to start Kernel 'raisingVillage (Python 3.10.16)' due to a timeout waiting for the ports to get used. \n",
      "\u001b[1;31mView Jupyter <a href='command:jupyter.viewOutput'>log</a> for further details."
     ]
    }
   ],
   "source": [
    "import pandas as pd \n",
    "import numpy as np\n",
    "from styles import selected_data as ds\n",
    "from styles.style1_handle_missing_values import MissingValueHandler, MissingValueHandlingStrategy, DropMissingValuesStrategy, FillMissingValuesStrategy\n",
    "from styles.style2_handle_outliers import OutlierDetectionStrategy, OutlierDetector, ZScoreOutlierDetection, IQROutlierDetection\n",
    "from styles.style3_numerical_feature_engineering import MinMaxScaler, StandardScaler,LogTransformation,FeatureEngineering, NumericalFeatureEngineeringStrategy\n",
    "from styles.style4_categorical_feature_engineering import OneHotEncoding, FeatureEngineering, CategoricalFeatureEngineeringStrategy"
   ]
  },
  {
   "cell_type": "code",
   "execution_count": 1,
   "id": "13edda24",
   "metadata": {},
   "outputs": [
    {
     "ename": "NameError",
     "evalue": "name 'pd' is not defined",
     "output_type": "error",
     "traceback": [
      "\u001b[1;31m---------------------------------------------------------------------------\u001b[0m",
      "\u001b[1;31mNameError\u001b[0m                                 Traceback (most recent call last)",
      "Cell \u001b[1;32mIn[1], line 3\u001b[0m\n\u001b[0;32m      1\u001b[0m \u001b[38;5;66;03m#loading our dataset after being extracted in the artifacts folder\u001b[39;00m\n\u001b[0;32m      2\u001b[0m data_path \u001b[38;5;241m=\u001b[39m \u001b[38;5;124m\"\u001b[39m\u001b[38;5;124mC:\u001b[39m\u001b[38;5;130;01m\\\\\u001b[39;00m\u001b[38;5;124mUsers\u001b[39m\u001b[38;5;130;01m\\\\\u001b[39;00m\u001b[38;5;124mUSER\u001b[39m\u001b[38;5;130;01m\\\\\u001b[39;00m\u001b[38;5;124mDesktop\u001b[39m\u001b[38;5;130;01m\\\\\u001b[39;00m\u001b[38;5;124mMLDefaults\u001b[39m\u001b[38;5;130;01m\\\\\u001b[39;00m\u001b[38;5;124mRising-Village-Prediction-Model\u001b[39m\u001b[38;5;130;01m\\\\\u001b[39;00m\u001b[38;5;124minterview_dataset.csv\u001b[39m\u001b[38;5;124m\"\u001b[39m\n\u001b[1;32m----> 3\u001b[0m df \u001b[38;5;241m=\u001b[39m \u001b[43mpd\u001b[49m\u001b[38;5;241m.\u001b[39mread_csv(data_path)\n",
      "\u001b[1;31mNameError\u001b[0m: name 'pd' is not defined"
     ]
    }
   ],
   "source": [
    "#loading our dataset after being extracted in the artifacts folder\n",
    "data_path = \"C:\\\\Users\\\\USER\\\\Desktop\\\\MLDefaults\\\\Rising-Village-Prediction-Model\\\\interview_dataset.csv\"\n",
    "df = pd.read_csv(data_path)\n"
   ]
  },
  {
   "cell_type": "markdown",
   "id": "ff5bbaf4",
   "metadata": {},
   "source": [
    "## Style 1: Handle Missing Values"
   ]
  },
  {
   "cell_type": "code",
   "execution_count": 3,
   "id": "0cd01566",
   "metadata": {},
   "outputs": [
    {
     "name": "stdout",
     "output_type": "stream",
     "text": [
      "[2025-05-27 20:22:28,559: INFO: style1_handle_missing_values: Executing Missing Value handling strategy!]\n",
      "[2025-05-27 20:22:28,562: INFO: style1_handle_missing_values: /n Dropping missing values using method={self.method}]\n",
      "[2025-05-27 20:22:28,592: INFO: style1_handle_missing_values: Missing Values Filled!]\n"
     ]
    }
   ],
   "source": [
    "# Initialize the handler with median-filling strategy\n",
    "missing_values_handler = MissingValueHandler(FillMissingValuesStrategy(method=\"median\"))\n",
    "filled_df = missing_values_handler.execute_strategy(ds)\n"
   ]
  },
  {
   "cell_type": "code",
   "execution_count": 6,
   "id": "f6868800",
   "metadata": {},
   "outputs": [
    {
     "name": "stdout",
     "output_type": "stream",
     "text": [
      "HH Income + Production/Day (USD)        0\n",
      "most_recommend_rtv_program            120\n",
      "least_recommend_rtv_program           120\n",
      "most_recommend_rtv_program_reason     120\n",
      "least_recommend_rtv_program_reason    120\n",
      "dtype: int64\n"
     ]
    }
   ],
   "source": [
    "print(ds.isnull().sum())"
   ]
  },
  {
   "cell_type": "code",
   "execution_count": 7,
   "id": "841563ce",
   "metadata": {},
   "outputs": [
    {
     "name": "stdout",
     "output_type": "stream",
     "text": [
      "[2025-05-27 20:30:58,001: INFO: style1_handle_missing_values: Executing Missing Value handling strategy!]\n",
      "[2025-05-27 20:30:58,012: INFO: style1_handle_missing_values: /n Dropping missing values using method={self.method}]\n",
      "[2025-05-27 20:30:58,203: INFO: style1_handle_missing_values: Missing Values Filled!]\n",
      "\n",
      "Columns with missing values AFTER filling:\n"
     ]
    },
    {
     "ename": "AttributeError",
     "evalue": "'NoneType' object has no attribute 'isnull'",
     "output_type": "error",
     "traceback": [
      "\u001b[1;31m---------------------------------------------------------------------------\u001b[0m",
      "\u001b[1;31mAttributeError\u001b[0m                            Traceback (most recent call last)",
      "Cell \u001b[1;32mIn[7], line 3\u001b[0m\n\u001b[0;32m      1\u001b[0m filled_df \u001b[38;5;241m=\u001b[39m missing_values_handler\u001b[38;5;241m.\u001b[39mexecute_strategy(ds)\n\u001b[0;32m      2\u001b[0m \u001b[38;5;28mprint\u001b[39m(\u001b[38;5;124m\"\u001b[39m\u001b[38;5;130;01m\\n\u001b[39;00m\u001b[38;5;124mColumns with missing values AFTER filling:\u001b[39m\u001b[38;5;124m\"\u001b[39m)\n\u001b[1;32m----> 3\u001b[0m \u001b[38;5;28mprint\u001b[39m(\u001b[43mfilled_df\u001b[49m\u001b[38;5;241;43m.\u001b[39;49m\u001b[43misnull\u001b[49m()\u001b[38;5;241m.\u001b[39msum())\n",
      "\u001b[1;31mAttributeError\u001b[0m: 'NoneType' object has no attribute 'isnull'"
     ]
    }
   ],
   "source": [
    "filled_df = missing_values_handler.execute_strategy(ds)\n",
    "print(\"\\nColumns with missing values AFTER filling:\")\n",
    "print(filled_df.isnull().sum())\n"
   ]
  }
 ],
 "metadata": {
  "kernelspec": {
   "display_name": "raisingVillage",
   "language": "python",
   "name": "python3"
  },
  "language_info": {
   "codemirror_mode": {
    "name": "ipython",
    "version": 3
   },
   "file_extension": ".py",
   "mimetype": "text/x-python",
   "name": "python",
   "nbconvert_exporter": "python",
   "pygments_lexer": "ipython3",
   "version": "3.10.16"
  }
 },
 "nbformat": 4,
 "nbformat_minor": 5
}
